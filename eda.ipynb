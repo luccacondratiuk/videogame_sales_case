{
 "cells": [
  {
   "cell_type": "markdown",
   "metadata": {},
   "source": [
    "# Videogame Sales Case"
   ]
  },
  {
   "cell_type": "markdown",
   "metadata": {},
   "source": [
    "## Setup"
   ]
  },
  {
   "cell_type": "markdown",
   "metadata": {},
   "source": [
    "### Libraries || Bibliotecas"
   ]
  },
  {
   "cell_type": "markdown",
   "metadata": {},
   "source": [
    "### Recurring Functions || Funções de uso Recorrente"
   ]
  },
  {
   "cell_type": "markdown",
   "metadata": {},
   "source": [
    "## Data Description\n",
    "\n",
    "- **Name**: The name of the video game.\n",
    "- **Platform**: The platform the game was released on.\n",
    "- **Year_of_Release**: The release year of the game.\n",
    "- **Genre**: The genre of the game.\n",
    "- **NA_sales**: North American sales in millions of USD.\n",
    "- **EU_sales**: European sales in millions of USD.\n",
    "- **JP_sales**: Japanese sales in millions of USD.\n",
    "- **Other_sales**: Sales in other regions in millions of USD.\n",
    "- **Critic_Score**: Critic's score (maximum of 100).\n",
    "- **User_Score**: User's score (maximum of 10).\n",
    "- **Rating**: ESRB rating (Entertainment Software Rating Board).\n",
    "\n",
    "---\n",
    "---\n",
    "\n",
    "## Descrição dos Dados\n",
    "\n",
    "- **Name**: Nome do jogo.\n",
    "- **Platform**: Plataforma em que o jogo foi lançado.\n",
    "- **Year_of_Release**: Ano de lançamento do jogo.\n",
    "- **Genre**: Gênero do jogo.\n",
    "- **NA_sales**: Vendas na América do Norte em milhões de USD.\n",
    "- **EU_sales**: Vendas na Europa em milhões de USD.\n",
    "- **JP_sales**: Vendas no Japão em milhões de USD.\n",
    "- **Other_sales**: Vendas em outras regiões em milhões de USD.\n",
    "- **Critic_Score**: Pontuação dos críticos (máximo de 100).\n",
    "- **User_Score**: Pontuação dos usuários (máximo de 10).\n",
    "- **Rating**: Classificação ESRB (Entertainment Software Rating Board)."
   ]
  },
  {
   "cell_type": "markdown",
   "metadata": {},
   "source": [
    "## Step 1 || Etapa 1\n",
    "- Opening the file, taking first conclusions and tracing a roadmap for the study\n",
    "---\n",
    "- Abrindo o arquivo de dados, tirando primeiras conclusões e traçando a rota para o estudo do caso"
   ]
  },
  {
   "cell_type": "markdown",
   "metadata": {},
   "source": [
    "### 1.1 Conclusions || Conclusões"
   ]
  },
  {
   "cell_type": "markdown",
   "metadata": {},
   "source": [
    "## Step 2 || Etapa 2"
   ]
  },
  {
   "cell_type": "markdown",
   "metadata": {},
   "source": [
    "### 2.1 Cleaning and formatting || Limpando e formatando"
   ]
  },
  {
   "cell_type": "markdown",
   "metadata": {},
   "source": [
    "### 2.2 Adding computed Data || Adicionando dados computados"
   ]
  },
  {
   "cell_type": "markdown",
   "metadata": {},
   "source": [
    "### 2.3 Conclusions || Conclusões"
   ]
  },
  {
   "cell_type": "markdown",
   "metadata": {},
   "source": [
    "## Step 3 || Etapa 3"
   ]
  },
  {
   "cell_type": "markdown",
   "metadata": {},
   "source": [
    "### Conclusions || Conclusões"
   ]
  },
  {
   "cell_type": "markdown",
   "metadata": {},
   "source": [
    "## Step 4 || Etapa 4"
   ]
  },
  {
   "cell_type": "markdown",
   "metadata": {},
   "source": [
    "### Conclusions || Conclusões"
   ]
  },
  {
   "cell_type": "markdown",
   "metadata": {},
   "source": [
    "## Step 5 || Etapa 5"
   ]
  },
  {
   "cell_type": "markdown",
   "metadata": {},
   "source": [
    "### Conclusions || Conclusões"
   ]
  },
  {
   "cell_type": "markdown",
   "metadata": {},
   "source": [
    "## Final Conclusion || Conclusão Final"
   ]
  }
 ],
 "metadata": {
  "language_info": {
   "name": "python"
  }
 },
 "nbformat": 4,
 "nbformat_minor": 2
}
